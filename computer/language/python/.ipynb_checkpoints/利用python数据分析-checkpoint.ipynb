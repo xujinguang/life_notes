{
 "cells": [
  {
   "cell_type": "markdown",
   "id": "formal-trouble",
   "metadata": {},
   "source": [
    "# 利用python数据分析\n",
    "2021-03-16"
   ]
  },
  {
   "cell_type": "markdown",
   "id": "tutorial-pocket",
   "metadata": {},
   "source": [
    "## numpy\n",
    "将数据处理任务转为简洁的数组表达式，用数组替代循环表达，通常称为矢量化。\n",
    "### 基本方法\n",
    "1. array 创建，可以指定类型，也可以自动推断\n",
    "2. arange 返回一个ndarray\n",
    "3. ones,zeros,empty,eye 快捷创建\n",
    "4. dtype 数据类型\n",
    "5. ndim 维度\n",
    "6. reshape 重塑\n",
    "7. T 转置，不拷贝\n",
    "8. where 条件 x if cond else y"
   ]
  },
  {
   "cell_type": "code",
   "execution_count": 2,
   "id": "entitled-teddy",
   "metadata": {},
   "outputs": [],
   "source": [
    "import numpy as np"
   ]
  },
  {
   "cell_type": "code",
   "execution_count": 3,
   "id": "optional-amateur",
   "metadata": {},
   "outputs": [],
   "source": [
    "a = list(range(6))\n",
    "arr = np.array(a)"
   ]
  },
  {
   "cell_type": "code",
   "execution_count": 5,
   "id": "reserved-strategy",
   "metadata": {},
   "outputs": [
    {
     "data": {
      "text/plain": [
       "dtype('int64')"
      ]
     },
     "execution_count": 5,
     "metadata": {},
     "output_type": "execute_result"
    }
   ],
   "source": [
    "arr.dtype"
   ]
  },
  {
   "cell_type": "code",
   "execution_count": 6,
   "id": "powerful-school",
   "metadata": {},
   "outputs": [
    {
     "data": {
      "text/plain": [
       "1"
      ]
     },
     "execution_count": 6,
     "metadata": {},
     "output_type": "execute_result"
    }
   ],
   "source": [
    "arr.ndim"
   ]
  },
  {
   "cell_type": "code",
   "execution_count": 7,
   "id": "essential-generator",
   "metadata": {},
   "outputs": [
    {
     "name": "stdout",
     "output_type": "stream",
     "text": [
      "[0 1 2 3 4 5]\n"
     ]
    }
   ],
   "source": [
    "print(arr)"
   ]
  },
  {
   "cell_type": "code",
   "execution_count": 8,
   "id": "tired-bishop",
   "metadata": {},
   "outputs": [],
   "source": [
    "float_arr = arr.astype(np.float32)"
   ]
  },
  {
   "cell_type": "code",
   "execution_count": 9,
   "id": "cultural-fight",
   "metadata": {},
   "outputs": [
    {
     "data": {
      "text/plain": [
       "dtype('float32')"
      ]
     },
     "execution_count": 9,
     "metadata": {},
     "output_type": "execute_result"
    }
   ],
   "source": [
    "float_arr.dtype"
   ]
  },
  {
   "cell_type": "code",
   "execution_count": 10,
   "id": "underlying-billy",
   "metadata": {},
   "outputs": [
    {
     "name": "stdout",
     "output_type": "stream",
     "text": [
      "[0. 1. 2. 3. 4. 5.]\n"
     ]
    }
   ],
   "source": [
    "print(float_arr)"
   ]
  },
  {
   "cell_type": "code",
   "execution_count": 38,
   "id": "empty-uganda",
   "metadata": {},
   "outputs": [
    {
     "data": {
      "text/plain": [
       "array([[ 2.20967909, -1.76838637, -0.52918567],\n",
       "       [-1.76838637, 13.46069263,  1.02722627],\n",
       "       [-0.52918567,  1.02722627, 16.45662418]])"
      ]
     },
     "execution_count": 38,
     "metadata": {},
     "output_type": "execute_result"
    }
   ],
   "source": [
    "tmp = np.random.randn(6,3)\n",
    "np.dot(tmp.T, tmp)"
   ]
  },
  {
   "cell_type": "markdown",
   "id": "comfortable-alaska",
   "metadata": {},
   "source": [
    "### 标量算术运算\n",
    "+-* / 都作用到每个元素，而不是矩阵乘法"
   ]
  },
  {
   "cell_type": "code",
   "execution_count": 13,
   "id": "precise-fraction",
   "metadata": {},
   "outputs": [],
   "source": [
    "arr = np.array([[1,2,3], [4,5,6]])"
   ]
  },
  {
   "cell_type": "code",
   "execution_count": 14,
   "id": "thick-volume",
   "metadata": {},
   "outputs": [
    {
     "data": {
      "text/plain": [
       "array([[ 1,  4,  9],\n",
       "       [16, 25, 36]])"
      ]
     },
     "execution_count": 14,
     "metadata": {},
     "output_type": "execute_result"
    }
   ],
   "source": [
    "arr * arr"
   ]
  },
  {
   "cell_type": "code",
   "execution_count": 15,
   "id": "manual-anime",
   "metadata": {},
   "outputs": [
    {
     "data": {
      "text/plain": [
       "array([[ 2,  4,  6],\n",
       "       [ 8, 10, 12]])"
      ]
     },
     "execution_count": 15,
     "metadata": {},
     "output_type": "execute_result"
    }
   ],
   "source": [
    "arr + arr"
   ]
  },
  {
   "cell_type": "code",
   "execution_count": 16,
   "id": "adequate-track",
   "metadata": {},
   "outputs": [
    {
     "data": {
      "text/plain": [
       "array([[0, 0, 0],\n",
       "       [0, 0, 0]])"
      ]
     },
     "execution_count": 16,
     "metadata": {},
     "output_type": "execute_result"
    }
   ],
   "source": [
    "arr - arr"
   ]
  },
  {
   "cell_type": "code",
   "execution_count": 17,
   "id": "criminal-wales",
   "metadata": {},
   "outputs": [
    {
     "data": {
      "text/plain": [
       "array([[1., 1., 1.],\n",
       "       [1., 1., 1.]])"
      ]
     },
     "execution_count": 17,
     "metadata": {},
     "output_type": "execute_result"
    }
   ],
   "source": [
    "arr / arr"
   ]
  },
  {
   "cell_type": "code",
   "execution_count": 18,
   "id": "dried-merit",
   "metadata": {},
   "outputs": [
    {
     "data": {
      "text/plain": [
       "array([[    1,     4,    27],\n",
       "       [  256,  3125, 46656]])"
      ]
     },
     "execution_count": 18,
     "metadata": {},
     "output_type": "execute_result"
    }
   ],
   "source": [
    "arr ** arr"
   ]
  },
  {
   "cell_type": "code",
   "execution_count": 19,
   "id": "patient-faculty",
   "metadata": {},
   "outputs": [
    {
     "data": {
      "text/plain": [
       "array([[10, 20, 30],\n",
       "       [40, 50, 60]])"
      ]
     },
     "execution_count": 19,
     "metadata": {},
     "output_type": "execute_result"
    }
   ],
   "source": [
    "arr * 10"
   ]
  },
  {
   "cell_type": "markdown",
   "id": "confident-surrey",
   "metadata": {},
   "source": [
    "### 索引和切片\n",
    "1. numpy的数组索引和切片不存在副本操作，都会直接修改原数据，如果需要副本操作，需要使用copy显示执行\n",
    "2. 索引方式和C数组一样，可以多个[]可以简写为逗号分割的list\n",
    "3. 索引支持布尔索引,而且可以和数值索引整合使用\n",
    "4. 花式索引返回副本"
   ]
  },
  {
   "cell_type": "code",
   "execution_count": 31,
   "id": "floral-ensemble",
   "metadata": {},
   "outputs": [],
   "source": [
    "names = np.array(['xu', 'jin', 'guang', 'xu'])\n",
    "data = np.array([[1,5],[2,6],[3,7],[4,8]])"
   ]
  },
  {
   "cell_type": "code",
   "execution_count": 26,
   "id": "finnish-trinidad",
   "metadata": {},
   "outputs": [
    {
     "data": {
      "text/plain": [
       "array([[1, 5],\n",
       "       [4, 8]])"
      ]
     },
     "execution_count": 26,
     "metadata": {},
     "output_type": "execute_result"
    }
   ],
   "source": [
    "data[names == 'xu']"
   ]
  },
  {
   "cell_type": "code",
   "execution_count": 27,
   "id": "filled-squad",
   "metadata": {},
   "outputs": [
    {
     "data": {
      "text/plain": [
       "array([[1],\n",
       "       [4]])"
      ]
     },
     "execution_count": 27,
     "metadata": {},
     "output_type": "execute_result"
    }
   ],
   "source": [
    "data[names == 'xu', :1]"
   ]
  },
  {
   "cell_type": "code",
   "execution_count": 28,
   "id": "wound-judges",
   "metadata": {},
   "outputs": [
    {
     "data": {
      "text/plain": [
       "array([[2, 6],\n",
       "       [3, 7]])"
      ]
     },
     "execution_count": 28,
     "metadata": {},
     "output_type": "execute_result"
    }
   ],
   "source": [
    "data[names != 'xu']"
   ]
  },
  {
   "cell_type": "code",
   "execution_count": 32,
   "id": "played-commodity",
   "metadata": {},
   "outputs": [],
   "source": [
    "mask = (names == 'xu') | (names == \"jin\")"
   ]
  },
  {
   "cell_type": "code",
   "execution_count": 33,
   "id": "solar-claim",
   "metadata": {},
   "outputs": [
    {
     "data": {
      "text/plain": [
       "array([ True,  True, False,  True])"
      ]
     },
     "execution_count": 33,
     "metadata": {},
     "output_type": "execute_result"
    }
   ],
   "source": [
    "mask"
   ]
  },
  {
   "cell_type": "code",
   "execution_count": 35,
   "id": "through-parish",
   "metadata": {},
   "outputs": [
    {
     "data": {
      "text/plain": [
       "array([[1, 5],\n",
       "       [2, 6],\n",
       "       [4, 8]])"
      ]
     },
     "execution_count": 35,
     "metadata": {},
     "output_type": "execute_result"
    }
   ],
   "source": [
    "data[mask]"
   ]
  },
  {
   "cell_type": "code",
   "execution_count": 36,
   "id": "young-apparel",
   "metadata": {},
   "outputs": [],
   "source": [
    "size = np.array([1,0,1,0])"
   ]
  },
  {
   "cell_type": "code",
   "execution_count": 37,
   "id": "purple-session",
   "metadata": {},
   "outputs": [
    {
     "data": {
      "text/plain": [
       "array([[1, 5],\n",
       "       [3, 7]])"
      ]
     },
     "execution_count": 37,
     "metadata": {},
     "output_type": "execute_result"
    }
   ],
   "source": [
    "data[size > 0] #使用关系布尔"
   ]
  },
  {
   "cell_type": "markdown",
   "id": "thrown-decade",
   "metadata": {},
   "source": [
    "## pandas\n",
    "基于numpy"
   ]
  },
  {
   "cell_type": "code",
   "execution_count": 39,
   "id": "genuine-diamond",
   "metadata": {},
   "outputs": [],
   "source": [
    "from pandas import Series, DataFrame"
   ]
  },
  {
   "cell_type": "code",
   "execution_count": 40,
   "id": "expired-experience",
   "metadata": {},
   "outputs": [],
   "source": [
    "obj = Series([2,5,3,-1])"
   ]
  },
  {
   "cell_type": "code",
   "execution_count": 41,
   "id": "current-romantic",
   "metadata": {},
   "outputs": [
    {
     "data": {
      "text/plain": [
       "0    2\n",
       "1    5\n",
       "2    3\n",
       "3   -1\n",
       "dtype: int64"
      ]
     },
     "execution_count": 41,
     "metadata": {},
     "output_type": "execute_result"
    }
   ],
   "source": [
    "obj"
   ]
  },
  {
   "cell_type": "code",
   "execution_count": 42,
   "id": "polished-headline",
   "metadata": {},
   "outputs": [
    {
     "data": {
      "text/plain": [
       "array([ 2,  5,  3, -1])"
      ]
     },
     "execution_count": 42,
     "metadata": {},
     "output_type": "execute_result"
    }
   ],
   "source": [
    "obj.values"
   ]
  },
  {
   "cell_type": "code",
   "execution_count": 43,
   "id": "hawaiian-checkout",
   "metadata": {},
   "outputs": [
    {
     "data": {
      "text/plain": [
       "RangeIndex(start=0, stop=4, step=1)"
      ]
     },
     "execution_count": 43,
     "metadata": {},
     "output_type": "execute_result"
    }
   ],
   "source": [
    "obj.index"
   ]
  },
  {
   "cell_type": "code",
   "execution_count": 44,
   "id": "sharing-trance",
   "metadata": {},
   "outputs": [],
   "source": [
    "obj2 = Series([2,5,3,-1], index=['a','b','c','d'])"
   ]
  },
  {
   "cell_type": "code",
   "execution_count": 45,
   "id": "similar-principle",
   "metadata": {},
   "outputs": [
    {
     "data": {
      "text/plain": [
       "Index(['a', 'b', 'c', 'd'], dtype='object')"
      ]
     },
     "execution_count": 45,
     "metadata": {},
     "output_type": "execute_result"
    }
   ],
   "source": [
    "obj2.index"
   ]
  },
  {
   "cell_type": "code",
   "execution_count": 46,
   "id": "found-basics",
   "metadata": {},
   "outputs": [
    {
     "data": {
      "text/plain": [
       "a    2\n",
       "b    5\n",
       "c    3\n",
       "dtype: int64"
      ]
     },
     "execution_count": 46,
     "metadata": {},
     "output_type": "execute_result"
    }
   ],
   "source": [
    "obj2[obj2>0]"
   ]
  },
  {
   "cell_type": "code",
   "execution_count": 47,
   "id": "welsh-chemistry",
   "metadata": {},
   "outputs": [
    {
     "data": {
      "text/plain": [
       "a     4\n",
       "b    10\n",
       "c     6\n",
       "d    -2\n",
       "dtype: int64"
      ]
     },
     "execution_count": 47,
     "metadata": {},
     "output_type": "execute_result"
    }
   ],
   "source": [
    "obj2 * 2"
   ]
  },
  {
   "cell_type": "code",
   "execution_count": 48,
   "id": "weekly-psychiatry",
   "metadata": {},
   "outputs": [
    {
     "data": {
      "text/plain": [
       "0      7.389056\n",
       "1    148.413159\n",
       "2     20.085537\n",
       "3      0.367879\n",
       "dtype: float64"
      ]
     },
     "execution_count": 48,
     "metadata": {},
     "output_type": "execute_result"
    }
   ],
   "source": [
    "np.exp(obj)"
   ]
  }
 ],
 "metadata": {
  "kernelspec": {
   "display_name": "Python 3",
   "language": "python",
   "name": "python3"
  },
  "language_info": {
   "codemirror_mode": {
    "name": "ipython",
    "version": 3
   },
   "file_extension": ".py",
   "mimetype": "text/x-python",
   "name": "python",
   "nbconvert_exporter": "python",
   "pygments_lexer": "ipython3",
   "version": "3.9.1"
  }
 },
 "nbformat": 4,
 "nbformat_minor": 5
}
