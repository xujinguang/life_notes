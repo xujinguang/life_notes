{
 "cells": [
  {
   "cell_type": "markdown",
   "id": "breeding-trader",
   "metadata": {},
   "source": [
    "# wtfpython [github](https://github.com/satwikkansal/wtfpython)"
   ]
  },
  {
   "cell_type": "code",
   "execution_count": 1,
   "id": "unnecessary-fruit",
   "metadata": {},
   "outputs": [
    {
     "data": {
      "text/plain": [
       "True"
      ]
     },
     "execution_count": 1,
     "metadata": {},
     "output_type": "execute_result"
    }
   ],
   "source": [
    "a=256\n",
    "b=256\n",
    "a is b"
   ]
  },
  {
   "cell_type": "code",
   "execution_count": 2,
   "id": "integrated-anatomy",
   "metadata": {},
   "outputs": [
    {
     "data": {
      "text/plain": [
       "False"
      ]
     },
     "execution_count": 2,
     "metadata": {},
     "output_type": "execute_result"
    }
   ],
   "source": [
    "a=257\n",
    "b=257\n",
    "a is b"
   ]
  },
  {
   "cell_type": "code",
   "execution_count": 3,
   "id": "black-wayne",
   "metadata": {},
   "outputs": [
    {
     "data": {
      "text/plain": [
       "False"
      ]
     },
     "execution_count": 3,
     "metadata": {},
     "output_type": "execute_result"
    }
   ],
   "source": [
    "a=257;b=257\n",
    "a is b"
   ]
  },
  {
   "cell_type": "code",
   "execution_count": 4,
   "id": "undefined-condition",
   "metadata": {},
   "outputs": [
    {
     "data": {
      "text/plain": [
       "4453001616"
      ]
     },
     "execution_count": 4,
     "metadata": {},
     "output_type": "execute_result"
    }
   ],
   "source": [
    "id(256)\n",
    "a=256\n",
    "id(a)\n",
    "b=256\n",
    "id(b)"
   ]
  },
  {
   "cell_type": "code",
   "execution_count": 5,
   "id": "figured-navigation",
   "metadata": {},
   "outputs": [
    {
     "name": "stdout",
     "output_type": "stream",
     "text": [
      "4453001616\n",
      "4453001616\n",
      "4453001616\n"
     ]
    }
   ],
   "source": [
    "print(id(256)) #256是预先分配，可以理解成常量\n",
    "a = 256\n",
    "print(id(a))\n",
    "b = 256\n",
    "print(id(b))"
   ]
  },
  {
   "cell_type": "code",
   "execution_count": 6,
   "id": "touched-parallel",
   "metadata": {},
   "outputs": [
    {
     "name": "stdout",
     "output_type": "stream",
     "text": [
      "4489171152\n",
      "4489171344\n",
      "4489171216\n"
     ]
    }
   ],
   "source": [
    "print(id(257)) #[-5,256]之前的值都是动态分配\n",
    "a = 257\n",
    "print(id(a))\n",
    "b = 257\n",
    "print(id(b))"
   ]
  },
  {
   "cell_type": "code",
   "execution_count": 8,
   "id": "independent-nylon",
   "metadata": {},
   "outputs": [
    {
     "name": "stdout",
     "output_type": "stream",
     "text": [
      "4489171568 4489171568\n"
     ]
    }
   ],
   "source": [
    "a,b = 257, 257 #在同一行初始化同一个值时，会指向同一个对象，交互式环境做的编译器优化，py文件不会\n",
    "print(id(a), id(b))"
   ]
  },
  {
   "cell_type": "code",
   "execution_count": 9,
   "id": "liquid-course",
   "metadata": {},
   "outputs": [
    {
     "name": "stdout",
     "output_type": "stream",
     "text": [
      "['', '', '']\n",
      "[['', '', ''], ['', '', ''], ['', '', '']] ['', '', ''] \n",
      "[['x', '', ''], ['x', '', ''], ['x', '', '']]\n"
     ]
    }
   ],
   "source": [
    "row = ['']*3\n",
    "array = [row] * 3 #对变量row做乘法，内容是共享的一份\n",
    "print(row)\n",
    "print(array, array[0], array[0][0])\n",
    "array[0][0] = 'x'\n",
    "print(array)"
   ]
  },
  {
   "cell_type": "code",
   "execution_count": 12,
   "id": "starting-shirt",
   "metadata": {},
   "outputs": [
    {
     "name": "stdout",
     "output_type": "stream",
     "text": [
      "[0, 1, 2, 3, 4, 5, 6]\n"
     ]
    }
   ],
   "source": [
    "funcs = []\n",
    "for x in range(7):\n",
    "    def some_func(x=x): #如果没有这个局部变量，那么x将采用闭包方式引用变量而不是变量值\n",
    "        return x\n",
    "    funcs.append(some_func)\n",
    "funcs_results = [func() for func in funcs]\n",
    "print(funcs_results)"
   ]
  },
  {
   "cell_type": "code",
   "execution_count": 13,
   "id": "following-sweet",
   "metadata": {},
   "outputs": [
    {
     "name": "stdout",
     "output_type": "stream",
     "text": [
      "True\n",
      "False\n"
     ]
    },
    {
     "name": "stderr",
     "output_type": "stream",
     "text": [
      "<>:1: SyntaxWarning: \"is not\" with a literal. Did you mean \"!=\"?\n",
      "<>:3: SyntaxWarning: \"is\" with a literal. Did you mean \"==\"?\n",
      "<>:1: SyntaxWarning: \"is not\" with a literal. Did you mean \"!=\"?\n",
      "<>:3: SyntaxWarning: \"is\" with a literal. Did you mean \"==\"?\n",
      "<ipython-input-13-f15404992170>:1: SyntaxWarning: \"is not\" with a literal. Did you mean \"!=\"?\n",
      "  r = 'some' is not None\n",
      "<ipython-input-13-f15404992170>:3: SyntaxWarning: \"is\" with a literal. Did you mean \"==\"?\n",
      "  r = 'some' is (not None)\n"
     ]
    }
   ],
   "source": [
    "r = 'some' is not None #is not， is， not是三个运算符\n",
    "print(r)\n",
    "r = 'some' is (not None)\n",
    "print(r)"
   ]
  },
  {
   "cell_type": "markdown",
   "id": "certified-mortality",
   "metadata": {},
   "source": [
    "## 不存的午夜 - 已修复"
   ]
  },
  {
   "cell_type": "code",
   "execution_count": 14,
   "id": "hungry-supervisor",
   "metadata": {},
   "outputs": [
    {
     "name": "stdout",
     "output_type": "stream",
     "text": [
      "Time at midnight is 00:00:00\n",
      "Time at noon is 12:00:00\n"
     ]
    }
   ],
   "source": [
    "from datetime import datetime\n",
    "\n",
    "midnight = datetime(2018, 1, 1, 0, 0)\n",
    "midnight_time = midnight.time()\n",
    "\n",
    "noon = datetime(2018, 1, 1, 12, 0)\n",
    "noon_time = noon.time()\n",
    "\n",
    "if midnight_time:\n",
    "    print(\"Time at midnight is\", midnight_time)\n",
    "\n",
    "if noon_time:\n",
    "    print(\"Time at noon is\", noon_time)\n",
    "#这个问题在3.6版本已修复"
   ]
  },
  {
   "cell_type": "markdown",
   "id": "offensive-principal",
   "metadata": {},
   "source": [
    "## 布尔属于整形"
   ]
  },
  {
   "cell_type": "code",
   "execution_count": 15,
   "id": "realistic-combat",
   "metadata": {},
   "outputs": [
    {
     "name": "stdout",
     "output_type": "stream",
     "text": [
      "4\n",
      "0\n"
     ]
    }
   ],
   "source": [
    "mixed_list = [False, 1.0, \"some_string\", 3, True, [], False]\n",
    "integers_found_so_far = 0\n",
    "booleans_found_so_far = 0\n",
    "\n",
    "for item in mixed_list:\n",
    "    if isinstance(item, int):\n",
    "        integers_found_so_far += 1\n",
    "    elif isinstance(item, bool):\n",
    "        booleans_found_so_far += 1\n",
    "print(integers_found_so_far) # False, True算int\n",
    "print(booleans_found_so_far)"
   ]
  },
  {
   "cell_type": "code",
   "execution_count": 16,
   "id": "designing-search",
   "metadata": {},
   "outputs": [
    {
     "name": "stdout",
     "output_type": "stream",
     "text": [
      "Python\n"
     ]
    }
   ],
   "source": [
    "another_dict = {}\n",
    "another_dict[True] = \"JavaScript\"\n",
    "another_dict[1] = \"Ruby\"\n",
    "another_dict[1.0] = \"Python\"\n",
    "print(another_dict[True]) #三次更新本质写的同一个对象"
   ]
  },
  {
   "cell_type": "code",
   "execution_count": 18,
   "id": "former-mother",
   "metadata": {},
   "outputs": [
    {
     "name": "stdout",
     "output_type": "stream",
     "text": [
      "wtf \n"
     ]
    }
   ],
   "source": [
    "print('wtf'*True, 'wtf'*False)"
   ]
  },
  {
   "cell_type": "code",
   "execution_count": 19,
   "id": "shaped-handle",
   "metadata": {},
   "outputs": [
    {
     "name": "stdout",
     "output_type": "stream",
     "text": [
      "True\n",
      "True\n"
     ]
    }
   ],
   "source": [
    "print(isinstance(True, int))\n",
    "print(isinstance(False, int))"
   ]
  },
  {
   "cell_type": "code",
   "execution_count": 20,
   "id": "corporate-modeling",
   "metadata": {},
   "outputs": [
    {
     "name": "stdout",
     "output_type": "stream",
     "text": [
      "True\n"
     ]
    }
   ],
   "source": [
    "print(True == 1 == 1.0)"
   ]
  },
  {
   "cell_type": "markdown",
   "id": "defensive-sheffield",
   "metadata": {},
   "source": [
    "## 类属性和实例属性"
   ]
  },
  {
   "cell_type": "code",
   "execution_count": 23,
   "id": "instrumental-pocket",
   "metadata": {},
   "outputs": [
    {
     "name": "stdout",
     "output_type": "stream",
     "text": [
      "1 1 1\n",
      "2 2 2\n",
      "2 3 2\n",
      "2 3 4\n"
     ]
    }
   ],
   "source": [
    "class A:\n",
    "    x = 1\n",
    "\n",
    "class B(A):\n",
    "    pass\n",
    "\n",
    "class C(A):\n",
    "    pass\n",
    "print(A.x, B.x, C.x) #类属性\n",
    "A.x = 2\n",
    "print(A.x, B.x, C.x)\n",
    "B.x = 3\n",
    "print(A.x, B.x, C.x)\n",
    "C.x = 4\n",
    "print(A.x, B.x, C.x)"
   ]
  },
  {
   "cell_type": "markdown",
   "id": "liable-sending",
   "metadata": {},
   "source": [
    "类变量和实例变量在内部是通过类对象的字典来处理，如果在当前类的字典中找不到的话就去它的父类中寻找。如果对当前类的对象赋值，则创建一个属性对象"
   ]
  },
  {
   "cell_type": "code",
   "execution_count": 25,
   "id": "reported-plaintiff",
   "metadata": {},
   "outputs": [
    {
     "name": "stdout",
     "output_type": "stream",
     "text": [
      "[5, 10] [5, 10]\n",
      "[5, 20] [5, 10, 20]\n",
      "[5, 10, 20]\n",
      "True True\n"
     ]
    }
   ],
   "source": [
    "class SomeClass:\n",
    "    some_var = 15\n",
    "    some_list = [5]\n",
    "    another_list = [5]\n",
    "    def __init__(self, x):\n",
    "        self.some_var = x + 1\n",
    "        self.some_list = self.some_list + [x]\n",
    "        self.another_list += [x]\n",
    "obj1 = SomeClass(10)\n",
    "print(obj1.some_list, obj1.another_list)\n",
    "obj2 = SomeClass(20)\n",
    "print(obj2.some_list, obj2.another_list)\n",
    "print(SomeClass.another_list)\n",
    "print(obj1.another_list is SomeClass.another_list, obj1.another_list is obj2.another_list)"
   ]
  },
  {
   "cell_type": "markdown",
   "id": "instrumental-accuracy",
   "metadata": {},
   "source": [
    "+= 运算符会在原地修改可变对象, 而不是创建新对象. 因此, 在这种情况下, 修改一个实例的属性会影响其他实例和类属性."
   ]
  },
  {
   "cell_type": "markdown",
   "id": "fifty-myrtle",
   "metadata": {},
   "source": [
    "## 对元组+=操作"
   ]
  },
  {
   "cell_type": "code",
   "execution_count": 30,
   "id": "motivated-regard",
   "metadata": {},
   "outputs": [],
   "source": [
    "some_tuple = (\"A\", \"tuple\", \"with\", \"values\")\n",
    "another_tuple = ([1, 2], [3, 4], [5, 6])"
   ]
  },
  {
   "cell_type": "code",
   "execution_count": 27,
   "id": "collect-tunnel",
   "metadata": {},
   "outputs": [
    {
     "ename": "TypeError",
     "evalue": "'tuple' object does not support item assignment",
     "output_type": "error",
     "traceback": [
      "\u001b[0;31m-------------------------------------------------\u001b[0m",
      "\u001b[0;31mTypeError\u001b[0m       Traceback (most recent call last)",
      "\u001b[0;32m<ipython-input-27-5fd54658fd8a>\u001b[0m in \u001b[0;36m<module>\u001b[0;34m\u001b[0m\n\u001b[0;32m----> 1\u001b[0;31m \u001b[0msome_tuple\u001b[0m\u001b[0;34m[\u001b[0m\u001b[0;36m2\u001b[0m\u001b[0;34m]\u001b[0m \u001b[0;34m=\u001b[0m \u001b[0;34m\"set\"\u001b[0m\u001b[0;34m\u001b[0m\u001b[0;34m\u001b[0m\u001b[0m\n\u001b[0m",
      "\u001b[0;31mTypeError\u001b[0m: 'tuple' object does not support item assignment"
     ]
    }
   ],
   "source": [
    "some_tuple[2] = \"set\""
   ]
  },
  {
   "cell_type": "code",
   "execution_count": 31,
   "id": "banner-charter",
   "metadata": {},
   "outputs": [
    {
     "name": "stdout",
     "output_type": "stream",
     "text": [
      "([1, 2], [3, 4], [5, 6, 7])\n"
     ]
    }
   ],
   "source": [
    "another_tuple[2].append(7)\n",
    "print(another_tuple)"
   ]
  },
  {
   "cell_type": "code",
   "execution_count": 32,
   "id": "multiple-oxford",
   "metadata": {},
   "outputs": [
    {
     "ename": "TypeError",
     "evalue": "'tuple' object does not support item assignment",
     "output_type": "error",
     "traceback": [
      "\u001b[0;31m-------------------------------------------------\u001b[0m",
      "\u001b[0;31mTypeError\u001b[0m       Traceback (most recent call last)",
      "\u001b[0;32m<ipython-input-32-c746a4b4484c>\u001b[0m in \u001b[0;36m<module>\u001b[0;34m\u001b[0m\n\u001b[0;32m----> 1\u001b[0;31m \u001b[0manother_tuple\u001b[0m\u001b[0;34m[\u001b[0m\u001b[0;36m2\u001b[0m\u001b[0;34m]\u001b[0m \u001b[0;34m+=\u001b[0m \u001b[0;34m[\u001b[0m\u001b[0;36m10\u001b[0m\u001b[0;34m,\u001b[0m\u001b[0;36m20\u001b[0m\u001b[0;34m]\u001b[0m\u001b[0;34m\u001b[0m\u001b[0;34m\u001b[0m\u001b[0m\n\u001b[0m\u001b[1;32m      2\u001b[0m \u001b[0mprint\u001b[0m\u001b[0;34m(\u001b[0m\u001b[0manother_tuple\u001b[0m\u001b[0;34m)\u001b[0m\u001b[0;34m\u001b[0m\u001b[0;34m\u001b[0m\u001b[0m\n",
      "\u001b[0;31mTypeError\u001b[0m: 'tuple' object does not support item assignment"
     ]
    }
   ],
   "source": [
    "another_tuple[2] += [10,20]\n",
    "print(another_tuple)"
   ]
  },
  {
   "cell_type": "markdown",
   "id": "detailed-recruitment",
   "metadata": {},
   "source": [
    "这个bug看来已经修复了，之前由于+=不是原子操作，而是 extend 和 = 两个动作, 这里 = 操作虽然会抛出异常, 但 extend 操作已经修改成功了"
   ]
  },
  {
   "cell_type": "markdown",
   "id": "cutting-criminal",
   "metadata": {},
   "source": [
    "## 内存空间"
   ]
  },
  {
   "cell_type": "code",
   "execution_count": 34,
   "id": "fifteen-victor",
   "metadata": {},
   "outputs": [
    {
     "name": "stdout",
     "output_type": "stream",
     "text": [
      "123.456\n"
     ]
    }
   ],
   "source": [
    "import numpy as np\n",
    "\n",
    "def energy_send(x):\n",
    "    # 初始化一个 numpy 数组\n",
    "    np.array([float(x)])\n",
    "\n",
    "def energy_receive():\n",
    "    # 返回一个空的 numpy 数组\n",
    "    return np.empty((), dtype=np.float).tolist()\n",
    "energy_send(123.456)\n",
    "print(energy_receive()) #内存复用了"
   ]
  },
  {
   "cell_type": "markdown",
   "id": "vocational-sheet",
   "metadata": {},
   "source": [
    "## 迭代字典"
   ]
  },
  {
   "cell_type": "code",
   "execution_count": 35,
   "id": "cloudy-radio",
   "metadata": {},
   "outputs": [
    {
     "name": "stdout",
     "output_type": "stream",
     "text": [
      "0\n"
     ]
    },
    {
     "ename": "RuntimeError",
     "evalue": "dictionary keys changed during iteration",
     "output_type": "error",
     "traceback": [
      "\u001b[0;31m-------------------------------------------------\u001b[0m",
      "\u001b[0;31mRuntimeError\u001b[0m    Traceback (most recent call last)",
      "\u001b[0;32m<ipython-input-35-e9927b81352d>\u001b[0m in \u001b[0;36m<module>\u001b[0;34m\u001b[0m\n\u001b[1;32m      1\u001b[0m \u001b[0mx\u001b[0m \u001b[0;34m=\u001b[0m \u001b[0;34m{\u001b[0m\u001b[0;36m0\u001b[0m\u001b[0;34m:\u001b[0m \u001b[0;32mNone\u001b[0m\u001b[0;34m}\u001b[0m\u001b[0;34m\u001b[0m\u001b[0;34m\u001b[0m\u001b[0m\n\u001b[1;32m      2\u001b[0m \u001b[0;34m\u001b[0m\u001b[0m\n\u001b[0;32m----> 3\u001b[0;31m \u001b[0;32mfor\u001b[0m \u001b[0mi\u001b[0m \u001b[0;32min\u001b[0m \u001b[0mx\u001b[0m\u001b[0;34m:\u001b[0m\u001b[0;34m\u001b[0m\u001b[0;34m\u001b[0m\u001b[0m\n\u001b[0m\u001b[1;32m      4\u001b[0m     \u001b[0;32mdel\u001b[0m \u001b[0mx\u001b[0m\u001b[0;34m[\u001b[0m\u001b[0mi\u001b[0m\u001b[0;34m]\u001b[0m\u001b[0;34m\u001b[0m\u001b[0;34m\u001b[0m\u001b[0m\n\u001b[1;32m      5\u001b[0m     \u001b[0mx\u001b[0m\u001b[0;34m[\u001b[0m\u001b[0mi\u001b[0m\u001b[0;34m+\u001b[0m\u001b[0;36m1\u001b[0m\u001b[0;34m]\u001b[0m \u001b[0;34m=\u001b[0m \u001b[0;32mNone\u001b[0m\u001b[0;34m\u001b[0m\u001b[0;34m\u001b[0m\u001b[0m\n",
      "\u001b[0;31mRuntimeError\u001b[0m: dictionary keys changed during iteration"
     ]
    }
   ],
   "source": [
    "x = {0: None}\n",
    "\n",
    "for i in x:\n",
    "    del x[i]\n",
    "    x[i+1] = None \n",
    "    print(i)"
   ]
  },
  {
   "cell_type": "markdown",
   "id": "missing-catering",
   "metadata": {},
   "source": [
    "看来这个问题已经修复了"
   ]
  },
  {
   "cell_type": "markdown",
   "id": "short-shoulder",
   "metadata": {},
   "source": [
    "## 迭代列表时删除元素"
   ]
  },
  {
   "cell_type": "code",
   "execution_count": 36,
   "id": "further-ideal",
   "metadata": {},
   "outputs": [
    {
     "name": "stdout",
     "output_type": "stream",
     "text": [
      "[1, 2, 3, 4]\n",
      "[2, 4]\n",
      "[]\n",
      "[2, 4]\n"
     ]
    }
   ],
   "source": [
    "list_1 = [1, 2, 3, 4]\n",
    "list_2 = [1, 2, 3, 4]\n",
    "list_3 = [1, 2, 3, 4]\n",
    "list_4 = [1, 2, 3, 4]\n",
    "\n",
    "for idx, item in enumerate(list_1): #只是删除itme这个名字\n",
    "    del item\n",
    "\n",
    "for idx, item in enumerate(list_2): #会位移，1删除后，2就变成了0位，而现在遍历到1，因此会跳过2，把3删除\n",
    "    list_2.remove(item)\n",
    "\n",
    "for idx, item in enumerate(list_3[:]): #迭代副本，可以成功删除\n",
    "    list_3.remove(item)\n",
    "\n",
    "for idx, item in enumerate(list_4): #这个同2\n",
    "    list_4.pop(idx)\n",
    "print(list_1)\n",
    "print(list_2)\n",
    "print(list_3)\n",
    "print(list_4)"
   ]
  },
  {
   "cell_type": "markdown",
   "id": "dutch-olympus",
   "metadata": {},
   "source": [
    "## 循环变量泄漏"
   ]
  },
  {
   "cell_type": "code",
   "execution_count": 37,
   "id": "impressed-physics",
   "metadata": {},
   "outputs": [
    {
     "name": "stdout",
     "output_type": "stream",
     "text": [
      "6 : for x inside loop\n",
      "6 : x in global\n"
     ]
    }
   ],
   "source": [
    "for x in range(7):\n",
    "    if x == 6:\n",
    "        print(x, ': for x inside loop')\n",
    "print(x, ': x in global') #x在for外未定义，但是从for泄漏出来了"
   ]
  },
  {
   "cell_type": "markdown",
   "id": "pending-colorado",
   "metadata": {},
   "source": [
    "## 默认的可变参数"
   ]
  },
  {
   "cell_type": "code",
   "execution_count": 38,
   "id": "hairy-evidence",
   "metadata": {},
   "outputs": [
    {
     "name": "stdout",
     "output_type": "stream",
     "text": [
      "['some_string']\n",
      "['some_string', 'some_string']\n",
      "['some_string']\n",
      "['some_string', 'some_string', 'some_string']\n"
     ]
    }
   ],
   "source": [
    "def some_func(default_arg=[]):\n",
    "    default_arg.append(\"some_string\")\n",
    "    return default_arg\n",
    "print(some_func())\n",
    "print(some_func())\n",
    "print(some_func([])) #这是期望行为\n",
    "print(some_func())"
   ]
  },
  {
   "cell_type": "markdown",
   "id": "cultural-bearing",
   "metadata": {},
   "source": [
    "## 捕获异常\n",
    "多个异常使用元组罗列即可"
   ]
  },
  {
   "cell_type": "markdown",
   "id": "latter-acrobat",
   "metadata": {},
   "source": [
    "## 彩蛋"
   ]
  },
  {
   "cell_type": "code",
   "execution_count": 41,
   "id": "dried-transcript",
   "metadata": {},
   "outputs": [],
   "source": [
    "import antigravity #彩蛋"
   ]
  },
  {
   "cell_type": "code",
   "execution_count": 40,
   "id": "marked-eight",
   "metadata": {},
   "outputs": [
    {
     "name": "stdout",
     "output_type": "stream",
     "text": [
      "The Zen of Python, by Tim Peters\n",
      "\n",
      "Beautiful is better than ugly.\n",
      "Explicit is better than implicit.\n",
      "Simple is better than complex.\n",
      "Complex is better than complicated.\n",
      "Flat is better than nested.\n",
      "Sparse is better than dense.\n",
      "Readability counts.\n",
      "Special cases aren't special enough to break the rules.\n",
      "Although practicality beats purity.\n",
      "Errors should never pass silently.\n",
      "Unless explicitly silenced.\n",
      "In the face of ambiguity, refuse the temptation to guess.\n",
      "There should be one-- and preferably only one --obvious way to do it.\n",
      "Although that way may not be obvious at first unless you're Dutch.\n",
      "Now is better than never.\n",
      "Although never is often better than *right* now.\n",
      "If the implementation is hard to explain, it's a bad idea.\n",
      "If the implementation is easy to explain, it may be a good idea.\n",
      "Namespaces are one honking great idea -- let's do more of those!\n"
     ]
    }
   ],
   "source": [
    "import this"
   ]
  }
 ],
 "metadata": {
  "kernelspec": {
   "display_name": "Python 3",
   "language": "python",
   "name": "python3"
  },
  "language_info": {
   "codemirror_mode": {
    "name": "ipython",
    "version": 3
   },
   "file_extension": ".py",
   "mimetype": "text/x-python",
   "name": "python",
   "nbconvert_exporter": "python",
   "pygments_lexer": "ipython3",
   "version": "3.9.1"
  }
 },
 "nbformat": 4,
 "nbformat_minor": 5
}
