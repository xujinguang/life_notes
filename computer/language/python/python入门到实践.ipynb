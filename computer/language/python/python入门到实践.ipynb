{
 "cells": [
  {
   "cell_type": "markdown",
   "id": "divided-truth",
   "metadata": {},
   "source": [
    "## 字符串\n",
    "这一章的内容介绍字符串，字符串的几个常用的操作函数"
   ]
  },
  {
   "cell_type": "markdown",
   "id": "third-permission",
   "metadata": {},
   "source": [
    "## 列表\n",
    "1. []标识，可修改\n",
    "2. 介绍什么是列表，特点\n",
    "3. CRUD 操作\n",
    "4. 注意缩进逻辑表达"
   ]
  },
  {
   "cell_type": "code",
   "execution_count": 12,
   "id": "surface-teddy",
   "metadata": {},
   "outputs": [
    {
     "name": "stdout",
     "output_type": "stream",
     "text": [
      "[] ['a', 1, 2.0, True, 'str', ['inner']]\n",
      "['a', 2, 2.0, True, 'str', ['inner'], 10]\n",
      "['first', 'a', 2, 2.0, True, 'str', ['inner'], 10]\n",
      "['a', 2, 2.0, True, 'str', ['inner'], 10]\n",
      "['a', 2, 2.0, True, 'str', ['inner']]\n",
      "[0, 1, 2, 3, 4, 5, 6, 7, 8, 9]\n"
     ]
    }
   ],
   "source": [
    "#Create\n",
    "a = []\n",
    "b = ['a', 1, 2.0, True, \"str\", [\"inner\"]]\n",
    "l = list()\n",
    "print(a, b)\n",
    "c = list(range(10)) #生成整形列表\n",
    "\n",
    "#Read\n",
    "b[0]\n",
    "b[-1] \n",
    "b[:] #切片\n",
    "b[1:]\n",
    "b[:-2]\n",
    "len(b)\n",
    "\n",
    "#Update\n",
    "b[1] = 2\n",
    "b.append(10);print(b)\n",
    "b.insert(0, \"first\");print(b)\n",
    "\n",
    "#Delete\n",
    "del b[0];print(b) #指定位置删除\n",
    "b.pop();print(b) #pop可以指定索引\n",
    "b.remove(2) #指定值删除\n",
    "\n",
    "#排序\n",
    "c.sort()\n",
    "c.sort(reverse=True)\n",
    "#c.sorted()\n",
    "c.reverse();print(c)"
   ]
  },
  {
   "cell_type": "markdown",
   "id": "unknown-bishop",
   "metadata": {},
   "source": [
    "## 元组\n",
    "1. 相比列表，它不可修改"
   ]
  },
  {
   "cell_type": "markdown",
   "id": "offensive-welding",
   "metadata": {},
   "source": [
    "## 字典\n",
    "1. {}标识\n"
   ]
  },
  {
   "cell_type": "markdown",
   "id": "acquired-baker",
   "metadata": {},
   "source": [
    "## 关系运算\n",
    "1. =< < > >= and or in not is\n"
   ]
  },
  {
   "cell_type": "markdown",
   "id": "responsible-azerbaijan",
   "metadata": {},
   "source": [
    "## 语句\n",
    "1. if/else\n",
    "2. while\n",
    "3. for\n",
    "4. break\n",
    "5. continue\n",
    "6. try/except/else"
   ]
  },
  {
   "cell_type": "markdown",
   "id": "afraid-vanilla",
   "metadata": {},
   "source": [
    "## 函数\n",
    "1. def\n",
    "2. 形参，实参和默认参数\n",
    "3. 变参\n",
    "4. 函数内修改列表，字典\n",
    "5. 模块化，导入"
   ]
  },
  {
   "cell_type": "markdown",
   "id": "different-eugene",
   "metadata": {},
   "source": [
    "## 类\n",
    "1. 定义类和实例化\n",
    "2. 成员变量和方法\n",
    "3. 继承"
   ]
  },
  {
   "cell_type": "markdown",
   "id": "prepared-participation",
   "metadata": {},
   "source": [
    "## 文件\n",
    "1. 打开文件 open()\n",
    "2. 读取文件 read()\n",
    "3. 写入文件 write()\n",
    "4. 关闭文件 close()"
   ]
  },
  {
   "cell_type": "markdown",
   "id": "endangered-packaging",
   "metadata": {},
   "source": [
    "## 测试\n",
    "1. unittest.TestCase\n",
    "2. 继承测试类，实现test_方法\n",
    "3. unittest.main()"
   ]
  },
  {
   "cell_type": "markdown",
   "id": "exceptional-authorization",
   "metadata": {},
   "source": [
    "## 实战\n",
    "1. 外星人射击游戏\n",
    "2. 数据分析\n",
    "3. web服务"
   ]
  }
 ],
 "metadata": {
  "kernelspec": {
   "display_name": "Python 3",
   "language": "python",
   "name": "python3"
  },
  "language_info": {
   "codemirror_mode": {
    "name": "ipython",
    "version": 3
   },
   "file_extension": ".py",
   "mimetype": "text/x-python",
   "name": "python",
   "nbconvert_exporter": "python",
   "pygments_lexer": "ipython3",
   "version": "3.9.1"
  }
 },
 "nbformat": 4,
 "nbformat_minor": 5
}
