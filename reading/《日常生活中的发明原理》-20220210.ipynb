{
 "cells": [
  {
   "cell_type": "markdown",
   "id": "28bd175f",
   "metadata": {},
   "source": [
    "## TRIZ 理论\n",
    "这不是英文的首字母缩写，是俄语的首字母缩写，分别是：理论-解决-发明-问题\n",
    "由20世纪50年代苏联专利审查员根里奇.阿奇舒勒创立\n",
    "\n",
    "1. 跨领域\n",
    "2. 创造性解决问题的理论"
   ]
  },
  {
   "cell_type": "markdown",
   "id": "2b9e5186",
   "metadata": {},
   "source": [
    "\n",
    "### 第一部分 TRIZ发明原理入门\n",
    "> 发明方法要符合科学，而且必须符合科学 - TRIZ首创者 根里奇·阿奇舒勒\n",
    "\n",
    "一个事实：某个领域最近才获得解决的问题当中，其实九成都已经在其他领域得到了解决。"
   ]
  },
  {
   "cell_type": "markdown",
   "id": "8233d400",
   "metadata": {},
   "source": [
    "擅长解决问题的人，很多都是善于对过去解决过的问题进行引申的人。"
   ]
  },
  {
   "cell_type": "markdown",
   "id": "16295e19",
   "metadata": {},
   "source": [
    "## 39个参数"
   ]
  },
  {
   "cell_type": "markdown",
   "id": "fb6bf427",
   "metadata": {},
   "source": [
    "1. 运动物理的质量\n",
    "2. 静止物体的质量\n",
    "3. 运动物体的长度\n",
    "4. 静止物体的长度\n",
    "5. 运动物体的面积\n",
    "6. 静止物体的面积\n",
    "7. 运动物体的体积\n",
    "8. 运动物体的体积\n",
    "9. 速度\n",
    "10. 力\n",
    "11. 应力或压力\n",
    "12. 形状\n",
    "13. 物体的结构的稳定性\n",
    "14. 强度\n",
    "15. 运动物体的动作时间\n",
    "16. 静止物体的动作时间\n",
    "17. 温度\n",
    "18. 亮度或辉度\n",
    "19. 运动物体消耗的能量\n",
    "20. 静止物体消耗的能量\n",
    "21. 功率\n",
    "22. 能量的损耗\n",
    "23. 物质的损耗\n",
    "24. 信息损耗\n",
    "25. 时间损耗\n",
    "26. 物质的量\n",
    "27. 可靠性\n",
    "28. 测量准确性\n",
    "29. 制造精度\n",
    "30. 影响物体的有害因素\n",
    "31. 物体产生的有害因素\n",
    "32. 可制造性\n",
    "33. 可操作性\n",
    "34. 可维护性\n",
    "35. 适应性或灵活度\n",
    "36. 装置复杂性\n",
    "37. 化验和测量的复杂性\n",
    "38. 自动化程度\n",
    "39. 生产率\n",
    "\n"
   ]
  },
  {
   "cell_type": "markdown",
   "id": "10af3022",
   "metadata": {},
   "source": [
    "## 解决问题的流程图                                                                 "
   ]
  },
  {
   "cell_type": "markdown",
   "id": "33a9d81c",
   "metadata": {},
   "source": [
    "1. 具体描述要解决的问题，希望改进什么，会导致什么变差\n",
    "2. 从改进项和变差项中选出一组矛盾\n",
    "3. 找到矛盾对应的特性参数\n",
    "4. 从矛盾矩阵中找出对应原理\n",
    "5. 用发明原理为线索，尝试解决问题\n",
    "\n",
    "重复以上流程"
   ]
  },
  {
   "cell_type": "markdown",
   "id": "6527ac5f",
   "metadata": {},
   "source": [
    "## 3C分析，SWOT分析，MECE原则"
   ]
  },
  {
   "cell_type": "markdown",
   "id": "841155a3",
   "metadata": {},
   "source": [
    "## 1. 分割原理"
   ]
  },
  {
   "cell_type": "markdown",
   "id": "938f7fce",
   "metadata": {},
   "source": [
    "## 2. 分离原理"
   ]
  },
  {
   "cell_type": "markdown",
   "id": "faf264ce",
   "metadata": {},
   "source": [
    "## 3. 局部质量原理"
   ]
  },
  {
   "cell_type": "markdown",
   "id": "5caee89e",
   "metadata": {},
   "source": [
    "## 4.非对称原理"
   ]
  },
  {
   "cell_type": "markdown",
   "id": "cfe16082",
   "metadata": {},
   "source": [
    "## 5.合并原理"
   ]
  },
  {
   "cell_type": "markdown",
   "id": "e2d8c6d7",
   "metadata": {},
   "source": [
    "## 6. 普遍性原理"
   ]
  },
  {
   "cell_type": "markdown",
   "id": "03b26b78",
   "metadata": {},
   "source": [
    "## 7. 嵌套原理"
   ]
  },
  {
   "cell_type": "markdown",
   "id": "cce75b23",
   "metadata": {},
   "source": [
    "## 8.配重原理"
   ]
  },
  {
   "cell_type": "markdown",
   "id": "78d56a13",
   "metadata": {},
   "source": [
    "## 9."
   ]
  },
  {
   "cell_type": "markdown",
   "id": "d3c78915",
   "metadata": {},
   "source": []
  }
 ],
 "metadata": {
  "kernelspec": {
   "display_name": "Python 3",
   "language": "python",
   "name": "python3"
  },
  "language_info": {
   "codemirror_mode": {
    "name": "ipython",
    "version": 3
   },
   "file_extension": ".py",
   "mimetype": "text/x-python",
   "name": "python",
   "nbconvert_exporter": "python",
   "pygments_lexer": "ipython3",
   "version": "3.6.8"
  }
 },
 "nbformat": 4,
 "nbformat_minor": 5
}
